{
 "cells": [
  {
   "cell_type": "code",
   "execution_count": 2,
   "metadata": {},
   "outputs": [],
   "source": [
    "import pandas as pd\n",
    "from datetime import datetime\n",
    "import os\n",
    "\n",
    "\n",
    "df_list = [pd.read_csv('db/fifa/' + x) for x in os.listdir('db/fifa') if '.csv' in x]\n",
    "df = pd.concat(df_list)"
   ]
  },
  {
   "cell_type": "code",
   "execution_count": 4,
   "metadata": {},
   "outputs": [
    {
     "data": {
      "text/plain": [
       "array(['2021', '2023', '2022', '2019', '2020', '2018', nan,\n",
       "       'Jun 30, 2018', '2026', 'Jun 30, 2019', 'May 31, 2020', '2024',\n",
       "       'May 31, 2018', 'Dec 31, 2019', 'Dec 31, 2018', '2025',\n",
       "       'May 31, 2019', 'Oct 14, 2019', 'Jan 31, 2019', 'Jun 1, 2019',\n",
       "       'Jan 1, 2019', 'Nov 30, 2018', 'Jun 1, 2018', 'Jan 25, 2019',\n",
       "       'Jan 6, 2019', 'Jan 18, 2019', 'Jan 31, 2018', 'Feb 27, 2020',\n",
       "       'Dec 1, 2019', 'Dec 15, 2018', 'Jan 5, 2019', 'Jan 12, 2018',\n",
       "       'Jun 30, 2020', 'Jan 31, 2020', 'Dec 31, 2020', 'Jan 1, 2020',\n",
       "       'Sep 17, 2019', 'Aug 27, 2020', 'Nov 30, 2019', 'Nov 22, 2020',\n",
       "       'Jul 2, 2019', 'Oct 31, 2019', 'Jan 21, 2020', 'Jul 31, 2020',\n",
       "       'Jun 1, 2020', 'Nov 19, 2019', 'Jan 14, 2020', 'Apr 29, 2019',\n",
       "       '2013', '2012', '2017', '2016', 'Jun 30, 2021', '2015', '2011',\n",
       "       '2028', 'Jun 30, 2017', 'May 31, 2021', '2014', 'Jun 30, 2014',\n",
       "       'Jul 5, 2020', 'Jan 31, 2021', 'May 25, 2016', 'Jul 1, 2021',\n",
       "       'Jan 1, 2021', 'Jul 1, 2020', 'Dec 31, 2014', 'Jun 23, 2021',\n",
       "       'Dec 31, 2017', 'Jun 1, 2017', '2009', 'Jun 1, 2021',\n",
       "       'Jan 1, 2018', '2010', '2007', '2008', 'Jan 6, 2018',\n",
       "       'Aug 31, 2020', 'Nov 30, 2020', 'Dec 31, 2021', 'Jan 30, 2021',\n",
       "       'Jun 30, 2022', 'Jul 5, 2021', '2027', 'Jun 30, 2023',\n",
       "       'Jan 17, 2021', 'Jan 3, 2021', 'Aug 31, 2021', 'Nov 27, 2021',\n",
       "       'May 31, 2022', 'Dec 30, 2020', 'Jun 30, 2015', 'Jul 31, 2021',\n",
       "       'Jan 4, 2021', 'May 31, 2016', 'Sep 11, 2020', 'Dec 30, 2021',\n",
       "       'Jun 30, 2016', 'Jun 1, 2022', '2031', 'Dec 31, 2022',\n",
       "       'Jan 1, 2022', 'Dec 20, 2022', 'Jan 31, 2022', 'Jan 3, 2022',\n",
       "       'Dec 1, 2021', 'Jul 15, 2016', 'Nov 30, 2021', 'Jun 1, 2016',\n",
       "       'Nov 30, 2017', 'Sep 6, 2022', 'Jan 9, 2022', '2006',\n",
       "       'Dec 31, 2023', 'Dec 31, 2013', 'Jan 31, 2023', 'Jun 26, 2023',\n",
       "       'Dec 30, 2023', 'Jun 30, 2024', 'Nov 30, 2022', 'May 31, 2023',\n",
       "       'Jan 1, 2023', 'Jan 3, 2023', 'Dec 1, 2022', 'Jan 8, 2023'],\n",
       "      dtype=object)"
      ]
     },
     "execution_count": 4,
     "metadata": {},
     "output_type": "execute_result"
    }
   ],
   "source": [
    "df['Contract Valid Until'].unique()"
   ]
  },
  {
   "cell_type": "code",
   "execution_count": 7,
   "metadata": {},
   "outputs": [],
   "source": [
    "def retira_ano(valor):\n",
    "\n",
    "    if len(valor) > 4:\n",
    "        return valor.split(',')[0].replace(' ','')\n",
    "    else:\n",
    "        return valor"
   ]
  },
  {
   "cell_type": "code",
   "execution_count": 8,
   "metadata": {},
   "outputs": [
    {
     "ename": "AttributeError",
     "evalue": "'Series' object has no attribute 'split'",
     "output_type": "error",
     "traceback": [
      "\u001b[0;31m---------------------------------------------------------------------------\u001b[0m",
      "\u001b[0;31mAttributeError\u001b[0m                            Traceback (most recent call last)",
      "\u001b[0;32m/tmp/ipykernel_9898/2360295944.py\u001b[0m in \u001b[0;36m<module>\u001b[0;34m\u001b[0m\n\u001b[0;32m----> 1\u001b[0;31m \u001b[0mretira_ano\u001b[0m\u001b[0;34m(\u001b[0m\u001b[0mdf\u001b[0m\u001b[0;34m[\u001b[0m\u001b[0;34m'Contract Valid Until'\u001b[0m\u001b[0;34m]\u001b[0m\u001b[0;34m)\u001b[0m\u001b[0;34m\u001b[0m\u001b[0;34m\u001b[0m\u001b[0m\n\u001b[0m",
      "\u001b[0;32m/tmp/ipykernel_9898/144405804.py\u001b[0m in \u001b[0;36mretira_ano\u001b[0;34m(valor)\u001b[0m\n\u001b[1;32m      2\u001b[0m \u001b[0;34m\u001b[0m\u001b[0m\n\u001b[1;32m      3\u001b[0m     \u001b[0;32mif\u001b[0m \u001b[0mlen\u001b[0m\u001b[0;34m(\u001b[0m\u001b[0mvalor\u001b[0m\u001b[0;34m)\u001b[0m \u001b[0;34m>\u001b[0m \u001b[0;36m4\u001b[0m\u001b[0;34m:\u001b[0m\u001b[0;34m\u001b[0m\u001b[0;34m\u001b[0m\u001b[0m\n\u001b[0;32m----> 4\u001b[0;31m         \u001b[0;32mreturn\u001b[0m \u001b[0mvalor\u001b[0m\u001b[0;34m.\u001b[0m\u001b[0msplit\u001b[0m\u001b[0;34m(\u001b[0m\u001b[0;34m','\u001b[0m\u001b[0;34m)\u001b[0m\u001b[0;34m[\u001b[0m\u001b[0;36m0\u001b[0m\u001b[0;34m]\u001b[0m\u001b[0;34m.\u001b[0m\u001b[0mreplace\u001b[0m\u001b[0;34m(\u001b[0m\u001b[0;34m' '\u001b[0m\u001b[0;34m,\u001b[0m\u001b[0;34m''\u001b[0m\u001b[0;34m)\u001b[0m\u001b[0;34m\u001b[0m\u001b[0;34m\u001b[0m\u001b[0m\n\u001b[0m\u001b[1;32m      5\u001b[0m     \u001b[0;32melse\u001b[0m\u001b[0;34m:\u001b[0m\u001b[0;34m\u001b[0m\u001b[0;34m\u001b[0m\u001b[0m\n\u001b[1;32m      6\u001b[0m         \u001b[0;32mreturn\u001b[0m \u001b[0mvalor\u001b[0m\u001b[0;34m\u001b[0m\u001b[0;34m\u001b[0m\u001b[0m\n",
      "\u001b[0;32m~/.local/lib/python3.10/site-packages/pandas/core/generic.py\u001b[0m in \u001b[0;36m__getattr__\u001b[0;34m(self, name)\u001b[0m\n\u001b[1;32m   5987\u001b[0m         ):\n\u001b[1;32m   5988\u001b[0m             \u001b[0;32mreturn\u001b[0m \u001b[0mself\u001b[0m\u001b[0;34m[\u001b[0m\u001b[0mname\u001b[0m\u001b[0;34m]\u001b[0m\u001b[0;34m\u001b[0m\u001b[0;34m\u001b[0m\u001b[0m\n\u001b[0;32m-> 5989\u001b[0;31m         \u001b[0;32mreturn\u001b[0m \u001b[0mobject\u001b[0m\u001b[0;34m.\u001b[0m\u001b[0m__getattribute__\u001b[0m\u001b[0;34m(\u001b[0m\u001b[0mself\u001b[0m\u001b[0;34m,\u001b[0m \u001b[0mname\u001b[0m\u001b[0;34m)\u001b[0m\u001b[0;34m\u001b[0m\u001b[0;34m\u001b[0m\u001b[0m\n\u001b[0m\u001b[1;32m   5990\u001b[0m \u001b[0;34m\u001b[0m\u001b[0m\n\u001b[1;32m   5991\u001b[0m     \u001b[0;32mdef\u001b[0m \u001b[0m__setattr__\u001b[0m\u001b[0;34m(\u001b[0m\u001b[0mself\u001b[0m\u001b[0;34m,\u001b[0m \u001b[0mname\u001b[0m\u001b[0;34m:\u001b[0m \u001b[0mstr\u001b[0m\u001b[0;34m,\u001b[0m \u001b[0mvalue\u001b[0m\u001b[0;34m)\u001b[0m \u001b[0;34m->\u001b[0m \u001b[0;32mNone\u001b[0m\u001b[0;34m:\u001b[0m\u001b[0;34m\u001b[0m\u001b[0;34m\u001b[0m\u001b[0m\n",
      "\u001b[0;31mAttributeError\u001b[0m: 'Series' object has no attribute 'split'"
     ]
    }
   ],
   "source": [
    "df['Contract Valid Until'].apply(retira_ano)"
   ]
  }
 ],
 "metadata": {
  "kernelspec": {
   "display_name": ".venv",
   "language": "python",
   "name": "python3"
  },
  "language_info": {
   "codemirror_mode": {
    "name": "ipython",
    "version": 3
   },
   "file_extension": ".py",
   "mimetype": "text/x-python",
   "name": "python",
   "nbconvert_exporter": "python",
   "pygments_lexer": "ipython3",
   "version": "3.10.12"
  },
  "orig_nbformat": 4
 },
 "nbformat": 4,
 "nbformat_minor": 2
}
